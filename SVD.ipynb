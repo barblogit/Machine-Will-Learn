{
 "cells": [
  {
   "cell_type": "code",
   "execution_count": 15,
   "metadata": {},
   "outputs": [],
   "source": [
    "\"\"\"\n",
    "SVD: A = U@S@V.T\n",
    "This file answers the simple question:\n",
    "    since A.T@A is symmetric and A.T@A = V@S.T@S@V.T, then why isn't A = S@V.T ?\n",
    "The answer is simply A^2 = B^2 does not imply A = B!\n",
    "\"\"\"\n",
    "import numpy as np"
   ]
  },
  {
   "cell_type": "code",
   "execution_count": 19,
   "metadata": {},
   "outputs": [
    {
     "name": "stdout",
     "output_type": "stream",
     "text": [
      "A = \n",
      " [[ 8.48528137  4.24264069]\n",
      " [-1.41421356  2.82842712]\n",
      " [ 0.          0.        ]]\n"
     ]
    }
   ],
   "source": [
    "\"\"\"\n",
    "Counter-example where A != S@V.T\n",
    "Replace with the next line to see that in some cases A can be S@V.T\n",
    "\"\"\"\n",
    "A = np.array([[7,1],[5,5],[0,0]])\n",
    "#A = np.array([[ 8.48528137,  4.24264069],[-1.41421356,  2.82842712],[ 0.        ,  0.        ]])\n",
    "print(\"A = \\n\", A)"
   ]
  },
  {
   "cell_type": "code",
   "execution_count": 20,
   "metadata": {},
   "outputs": [
    {
     "name": "stdout",
     "output_type": "stream",
     "text": [
      "A.T @ A = \n",
      " [[73.99999992 32.00000002]\n",
      " [32.00000002 26.        ]]\n"
     ]
    }
   ],
   "source": [
    "A2 = A.T @ A\n",
    "print(\"A.T @ A = \\n\", A2)"
   ]
  },
  {
   "cell_type": "code",
   "execution_count": 21,
   "metadata": {},
   "outputs": [
    {
     "name": "stdout",
     "output_type": "stream",
     "text": [
      "V = \n",
      " [[ 0.89442719 -0.4472136 ]\n",
      " [ 0.4472136   0.89442719]]\n"
     ]
    }
   ],
   "source": [
    "L, V = np.linalg.eig(A2)\n",
    "print(\"V = \\n\", V)"
   ]
  },
  {
   "cell_type": "code",
   "execution_count": 22,
   "metadata": {},
   "outputs": [
    {
     "name": "stdout",
     "output_type": "stream",
     "text": [
      "S = \n",
      " [[9.48683298 0.        ]\n",
      " [0.         3.16227765]\n",
      " [0.         0.        ]]\n"
     ]
    }
   ],
   "source": [
    "S = np.array([[L[0]**0.5, 0],[0, L[1]**0.5],[0, 0]])\n",
    "print(\"S = \\n\", S)"
   ]
  },
  {
   "cell_type": "code",
   "execution_count": 23,
   "metadata": {},
   "outputs": [
    {
     "data": {
      "text/plain": [
       "array([[73.99999992, 32.00000002],\n",
       "       [32.00000002, 26.        ]])"
      ]
     },
     "execution_count": 23,
     "metadata": {},
     "output_type": "execute_result"
    }
   ],
   "source": [
    "V@S.T@S@V.T"
   ]
  },
  {
   "cell_type": "code",
   "execution_count": 24,
   "metadata": {},
   "outputs": [
    {
     "data": {
      "text/plain": [
       "array([[ 8.48528137,  4.24264069],\n",
       "       [-1.41421356,  2.82842712],\n",
       "       [ 0.        ,  0.        ]])"
      ]
     },
     "execution_count": 24,
     "metadata": {},
     "output_type": "execute_result"
    }
   ],
   "source": [
    "\"\"\"\n",
    "S@V.T != A \n",
    "\"\"\"\n",
    "S@V.T"
   ]
  },
  {
   "cell_type": "code",
   "execution_count": null,
   "metadata": {},
   "outputs": [],
   "source": []
  }
 ],
 "metadata": {
  "kernelspec": {
   "display_name": "Python 3",
   "language": "python",
   "name": "python3"
  },
  "language_info": {
   "codemirror_mode": {
    "name": "ipython",
    "version": 3
   },
   "file_extension": ".py",
   "mimetype": "text/x-python",
   "name": "python",
   "nbconvert_exporter": "python",
   "pygments_lexer": "ipython3",
   "version": "3.8.1"
  }
 },
 "nbformat": 4,
 "nbformat_minor": 4
}
